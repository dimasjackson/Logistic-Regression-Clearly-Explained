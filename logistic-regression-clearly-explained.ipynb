{
 "cells": [
  {
   "cell_type": "markdown",
   "id": "9ca97ec7",
   "metadata": {
    "papermill": {
     "duration": 0.017874,
     "end_time": "2023-02-22T14:58:46.685589",
     "exception": false,
     "start_time": "2023-02-22T14:58:46.667715",
     "status": "completed"
    },
    "tags": []
   },
   "source": [
    "# Logistic Regression\n",
    "\n",
    "Logistic Regression is a statistical model that is used in classification and predictive analysis. This model is also know as Logit and it is characterized by a single binary dependent variable, i. e. a variable that only can take two values, often labeled as 0 and 1. Binary values are widely udsed in statistics to model the probablity of a certain event occuring, such as the probability of a pacient being health, a tumor being malignant or not, if an email is spam or not and if a team win or loose. Therefore, Logistic Regression has a large variety of applications. In this tutorial we will present a clear explanation about logistic regression models, build from scratch a model and compare it with the scikit learn implementaion.\n",
    "\n",
    "The logistic function is defined by:\n",
    "$$ p(x) = \\dfrac{1}{1+e^{-(x-\\mu)/s}} $$\n",
    "where $\\mu$ is the midpoint of the curve ($p(\\mu)=1/2$) and $s$ a scale parameter that determines the spread of the probability distribution. This function is also called **sigmoid function**, because of its 's' shape.\n",
    "\n",
    "The logistic fuction is used to generate predictions as we will see below. Furthermore, it is interesting to write this function as \n",
    "$$ p(x) = \\dfrac{1}{1+e^{-(\\beta_0 + \\beta_1 x)}} \\,,$$ \n",
    "where $\\beta_0 = -\\mu/s$ is the intercept of the line $y = \\beta_0 + \\beta_1 x$ and $\\beta_1 = 1/s$ is its slope. The parameter $\\beta_0$ is also called \"bias\" and $\\beta_1$ \"weights\". The particular values of these quantities that maximizes the likelyhood function are what we need to find to make predictions."
   ]
  },
  {
   "cell_type": "code",
   "execution_count": 1,
   "id": "50816239",
   "metadata": {
    "execution": {
     "iopub.execute_input": "2023-02-22T14:58:46.716906Z",
     "iopub.status.busy": "2023-02-22T14:58:46.715878Z",
     "iopub.status.idle": "2023-02-22T14:58:46.729511Z",
     "shell.execute_reply": "2023-02-22T14:58:46.728606Z"
    },
    "papermill": {
     "duration": 0.032372,
     "end_time": "2023-02-22T14:58:46.732272",
     "exception": false,
     "start_time": "2023-02-22T14:58:46.699900",
     "status": "completed"
    },
    "tags": []
   },
   "outputs": [],
   "source": [
    "# Defining the sigmoid function\n",
    "\n",
    "import numpy as np # Importing a linear algebra package\n",
    "import matplotlib.pyplot as plt # To plot figures\n",
    "\n",
    "def sigmoid(beta_1, beta_0, x):\n",
    "    return 1/(1+np.exp(-(beta_1*x-beta_0)))"
   ]
  },
  {
   "cell_type": "code",
   "execution_count": 2,
   "id": "0fd7f526",
   "metadata": {
    "execution": {
     "iopub.execute_input": "2023-02-22T14:58:46.763057Z",
     "iopub.status.busy": "2023-02-22T14:58:46.762345Z",
     "iopub.status.idle": "2023-02-22T14:58:46.997938Z",
     "shell.execute_reply": "2023-02-22T14:58:46.996636Z"
    },
    "papermill": {
     "duration": 0.254308,
     "end_time": "2023-02-22T14:58:47.000979",
     "exception": false,
     "start_time": "2023-02-22T14:58:46.746671",
     "status": "completed"
    },
    "tags": []
   },
   "outputs": [
    {
     "data": {
      "image/png": "[encoded data removed]",
      "text/plain": [
       "<Figure size 720x360 with 1 Axes>"
      ]
     },
     "metadata": {
      "needs_background": "light"
     },
     "output_type": "display_data"
    }
   ],
   "source": [
    "x = np.linspace(-10,10,10000) # Defining a interval\n",
    "y = sigmoid(1,0,x) # Defining the dependent variable\n",
    "plt.figure(figsize=(10,5))\n",
    "plt.plot(x, y)\n",
    "plt.title(\"Sigmoid: the probability distribution of logistic model\")\n",
    "plt.xlabel(xlabel=\"x\")\n",
    "plt.ylabel(ylabel=\"p(x)\")\n",
    "plt.show()\n"
   ]
  },
  {
   "cell_type": "markdown",
   "id": "09aa4fa6",
   "metadata": {
    "papermill": {
     "duration": 0.014951,
     "end_time": "2023-02-22T14:58:47.031207",
     "exception": false,
     "start_time": "2023-02-22T14:58:47.016256",
     "status": "completed"
    },
    "tags": []
   },
   "source": [
    "# Types of Logistic Regression\n",
    "\n",
    "1. **Binary Logistic Regression:** In this case the categorical variable (target) has only two possible outcomes. Examples: Spam or Not, diagnostic positive or negative, some equipment failed or not, students pass or fail in an exam.\n",
    "\n",
    "2. **Multinomial Logistic Regression:** The target contains three or more categories without ordering. Examples: Predicting if a individual is vegetarian, meat-eater or vegan, customer segmentation.\n",
    "\n",
    "3. **Ordinal Logistic Regression:** The target containd three or more categories with ordering. Example: Movie rating from 1 to 5.\n",
    "\n",
    "In this tutorial we will implement from scratch a binary logistic regression model.\n"
   ]
  },
  {
   "cell_type": "markdown",
   "id": "4e28808f",
   "metadata": {
    "papermill": {
     "duration": 0.014649,
     "end_time": "2023-02-22T14:58:47.061341",
     "exception": false,
     "start_time": "2023-02-22T14:58:47.046692",
     "status": "completed"
    },
    "tags": []
   },
   "source": [
    "# Example\n",
    "\n",
    "The binary logistic regression can be used with one **explanatory variable** and two **categories** to answer a question. As an example, consider the case of a group of students which are preparing for a exam. The question is: how does the number of study hours affect the probability of the student passing the exam? In this case the explanatory variable is the number of hours studying and the two categories are being approved or not. Let's consider 10 students that spends between 0 to 10 hours studing and use 1 to identify \"pass\" and 0 to \"fail\". Then, we have the following \"sintetic\" data:"
   ]
  },
  {
   "cell_type": "code",
   "execution_count": 3,
   "id": "3e30fbd7",
   "metadata": {
    "execution": {
     "iopub.execute_input": "2023-02-22T14:58:47.093922Z",
     "iopub.status.busy": "2023-02-22T14:58:47.093067Z",
     "iopub.status.idle": "2023-02-22T14:58:47.117090Z",
     "shell.execute_reply": "2023-02-22T14:58:47.115856Z"
    },
    "papermill": {
     "duration": 0.043233,
     "end_time": "2023-02-22T14:58:47.119527",
     "exception": false,
     "start_time": "2023-02-22T14:58:47.076294",
     "status": "completed"
    },
    "tags": []
   },
   "outputs": [
    {
     "data": {
      "text/html": [
       "<div>\n",
       "<style scoped>\n",
       "    .dataframe tbody tr th:only-of-type {\n",
       "        vertical-align: middle;\n",
       "    }\n",
       "\n",
       "    .dataframe tbody tr th {\n",
       "        vertical-align: top;\n",
       "    }\n",
       "\n",
       "    .dataframe thead th {\n",
       "        text-align: right;\n",
       "    }\n",
       "</style>\n",
       "<table border=\"1\" class=\"dataframe\">\n",
       "  <thead>\n",
       "    <tr style=\"text-align: right;\">\n",
       "      <th></th>\n",
       "      <th>Hours</th>\n",
       "      <th>Pass</th>\n",
       "    </tr>\n",
       "  </thead>\n",
       "  <tbody>\n",
       "    <tr>\n",
       "      <th>0</th>\n",
       "      <td>0.0</td>\n",
       "      <td>0</td>\n",
       "    </tr>\n",
       "    <tr>\n",
       "      <th>1</th>\n",
       "      <td>1.0</td>\n",
       "      <td>0</td>\n",
       "    </tr>\n",
       "    <tr>\n",
       "      <th>2</th>\n",
       "      <td>2.5</td>\n",
       "      <td>0</td>\n",
       "    </tr>\n",
       "    <tr>\n",
       "      <th>3</th>\n",
       "      <td>4.0</td>\n",
       "      <td>0</td>\n",
       "    </tr>\n",
       "    <tr>\n",
       "      <th>4</th>\n",
       "      <td>4.0</td>\n",
       "      <td>1</td>\n",
       "    </tr>\n",
       "    <tr>\n",
       "      <th>5</th>\n",
       "      <td>4.5</td>\n",
       "      <td>0</td>\n",
       "    </tr>\n",
       "    <tr>\n",
       "      <th>6</th>\n",
       "      <td>5.0</td>\n",
       "      <td>1</td>\n",
       "    </tr>\n",
       "    <tr>\n",
       "      <th>7</th>\n",
       "      <td>6.0</td>\n",
       "      <td>1</td>\n",
       "    </tr>\n",
       "    <tr>\n",
       "      <th>8</th>\n",
       "      <td>8.0</td>\n",
       "      <td>1</td>\n",
       "    </tr>\n",
       "    <tr>\n",
       "      <th>9</th>\n",
       "      <td>10.0</td>\n",
       "      <td>1</td>\n",
       "    </tr>\n",
       "  </tbody>\n",
       "</table>\n",
       "</div>"
      ],
      "text/plain": [
       "   Hours  Pass\n",
       "0    0.0     0\n",
       "1    1.0     0\n",
       "2    2.5     0\n",
       "3    4.0     0\n",
       "4    4.0     1\n",
       "5    4.5     0\n",
       "6    5.0     1\n",
       "7    6.0     1\n",
       "8    8.0     1\n",
       "9   10.0     1"
      ]
     },
     "execution_count": 3,
     "metadata": {},
     "output_type": "execute_result"
    }
   ],
   "source": [
    "import pandas as pd # Data set management\n",
    "\n",
    "df = pd.DataFrame(data={\"Hours\":[0,1,2.5,4,4,4.5,5,6,8,10],\"Pass\":[0,0,0,0,1,0,1,1,1,1]})\n",
    "df"
   ]
  },
  {
   "cell_type": "markdown",
   "id": "a2f0a7e0",
   "metadata": {
    "papermill": {
     "duration": 0.014543,
     "end_time": "2023-02-22T14:58:47.148944",
     "exception": false,
     "start_time": "2023-02-22T14:58:47.134401",
     "status": "completed"
    },
    "tags": []
   },
   "source": [
    "To predict if a student will pass or not we need to consider the loss function, which is a function that represents the \"price to pay\" for inaccuracy of predictions. Usually, the logistic loss function is used as the measure of goodness of a fit in logistic regression. Considering that $p_k$ is the probability that the $k-$th student will pass the exam and $1-p_k$ the fail probability, the log loss for the $k-$th point is:\n",
    "$$ \\begin{cases}\n",
    "-\\ln p_{k} & \\text{if }y_{k}=1\\\\\n",
    "-\\ln(1-p_{k}) & \\text{if }y_{k}=0\n",
    "\\end{cases} $$\n",
    "\n",
    "Note that log loss is always greater than or equal to 0, equals 0 only in case of a perfect prediction, and approaches to infinity when predictions get worse. The two cases can be combined into a function called cross entropy:\n",
    "$$ -y_k \\ln p_k -(1-y_k) \\ln (1-p_k) $$\n",
    "\n",
    "The sum of the this term for all elements is the negative likelihood function:\n",
    "$$ -l = -\\sum_k^N [y_k \\ln p_k +(1-y_k) \\ln (1-p_k)]$$\n",
    "\n",
    "To estimate the probability of an outcome we need to find the values of $\\beta_0$ and $\\beta_1$ that minimizes the negative likelihood (or maximizes the positive likelihood, if you prefer). This is accomplished taking the derivative of the likelihood with respect to these parameters (or applying the gradient operator in high dimension problems):\n",
    "$$ 0 = \\frac{\\partial l}{\\partial \\beta_0} = \\sum_{k=1}^N(y_k-p_k) $$\n",
    "$$ 0 = \\frac{\\partial l}{\\partial \\beta_1} = \\sum_{k=1}^N(y_k-p_k)x_k $$\n",
    "Then we need to solve the above two equations for  $\\beta_{0}$ and $\\beta_{1}$, which generally requires the use of numerical methods. For example, we may start with $\\beta_0 = 0$ and $ \\beta_1 = 0$ and iterate the model increasing these parameters by a fraction of the gradient. After that, the probability of passing or failing the exam can be calculated using the sigmoid function\n",
    "$$ p = \\dfrac{1}{1+e^{-t}}\\,,$$\n",
    "where $t = \\beta_0 + x\\beta_1$. Let's implement this calculation using python functions\n",
    "\n"
   ]
  },
  {
   "cell_type": "markdown",
   "id": "6c54c8c1",
   "metadata": {
    "papermill": {
     "duration": 0.014518,
     "end_time": "2023-02-22T14:58:47.178989",
     "exception": false,
     "start_time": "2023-02-22T14:58:47.164471",
     "status": "completed"
    },
    "tags": []
   },
   "source": [
    "# Our Implementation\n",
    "\n",
    " We will start with $\\beta_0 = 0$ and $ \\beta_1 = 0.01(1,1,\\dots,1)$ and iterate the model increasing these parameters by a fraction of the gradient. This fraction amount is usually called \"learning rate\"."
   ]
  },
  {
   "cell_type": "code",
   "execution_count": null,
   "id": "ca99c8e7",
   "metadata": {
    "execution": {
     "iopub.execute_input": "2023-02-22T14:58:47.240772Z",
     "iopub.status.busy": "2023-02-22T14:58:47.239960Z",
     "iopub.status.idle": "2023-02-22T14:58:47.245569Z",
     "shell.execute_reply": "2023-02-22T14:58:47.244794Z"
    },
    "papermill": {
     "duration": 0.024431,
     "end_time": "2023-02-22T14:58:47.247944",
     "exception": false,
     "start_time": "2023-02-22T14:58:47.223513",
     "status": "completed"
    },
    "tags": []
   },
   "outputs": [],
   "source": [
    "# Defining the initial parameters (zeros)\n",
    "def weightInitialization(n_features):\n",
    "    beta_1 = np.full((n_features),0) # Note that beta_1 must have the same dimension of x\n",
    "    beta_0 = 0\n",
    "    return beta_1,beta_0"
   ]
  },
  {
   "cell_type": "code",
   "execution_count": null,
   "id": "1f0379f0",
   "metadata": {
    "execution": {
     "iopub.execute_input": "2023-02-22T14:58:47.280118Z",
     "iopub.status.busy": "2023-02-22T14:58:47.279290Z",
     "iopub.status.idle": "2023-02-22T14:58:47.284968Z",
     "shell.execute_reply": "2023-02-22T14:58:47.284086Z"
    },
    "papermill": {
     "duration": 0.024661,
     "end_time": "2023-02-22T14:58:47.287427",
     "exception": false,
     "start_time": "2023-02-22T14:58:47.262766",
     "status": "completed"
    },
    "tags": []
   },
   "outputs": [],
   "source": [
    "# Defining the sigmoid function\n",
    "def sigmoid_vec(t):\n",
    "    p = 1/(1+np.exp(-t)) \n",
    "    return p"
   ]
  },
  {
   "cell_type": "code",
   "execution_count": null,
   "id": "adf4cee2",
   "metadata": {
    "execution": {
     "iopub.execute_input": "2023-02-22T14:58:47.320372Z",
     "iopub.status.busy": "2023-02-22T14:58:47.319582Z",
     "iopub.status.idle": "2023-02-22T14:58:47.327923Z",
     "shell.execute_reply": "2023-02-22T14:58:47.327065Z"
    },
    "papermill": {
     "duration": 0.027984,
     "end_time": "2023-02-22T14:58:47.330553",
     "exception": false,
     "start_time": "2023-02-22T14:58:47.302569",
     "status": "completed"
    },
    "tags": []
   },
   "outputs": [],
   "source": [
    "# Calculates the likelihood and the derivatives\n",
    "def log_model(beta_1, beta_0, x, y):\n",
    "       \n",
    "    #Prediction\n",
    "    t = np.dot(beta_1, x.T) + beta_0 # The .T means the transpose of x and np.dot the dot product\n",
    "    prob = sigmoid_vec(t)\n",
    "    y = np.array(y)\n",
    "    likelihood = np.sum( -y*np.log(prob) - (1 - y)*np.log(1 - prob) )/x.shape[1] # The factor 1/x.shape[1] is for scaling by the n# of features\n",
    "    \n",
    "    #Gradient calculation\n",
    "    dbeta_1 = np.dot(x.T, (prob-y))/x.shape[1]\n",
    "    dbeta_0 = np.sum(prob-y)/x.shape[1]\n",
    "    \n",
    "    gradients = {\"dbeta_1\": dbeta_1, \"dbeta_0\": dbeta_0}\n",
    "    \n",
    "    return gradients, likelihood, prob "
   ]
  },
  {
   "cell_type": "code",
   "execution_count": null,
   "id": "931d9fa7",
   "metadata": {
    "execution": {
     "iopub.execute_input": "2023-02-22T14:58:47.363854Z",
     "iopub.status.busy": "2023-02-22T14:58:47.362890Z",
     "iopub.status.idle": "2023-02-22T14:58:47.372703Z",
     "shell.execute_reply": "2023-02-22T14:58:47.371372Z"
    },
    "papermill": {
     "duration": 0.029557,
     "end_time": "2023-02-22T14:58:47.375480",
     "exception": false,
     "start_time": "2023-02-22T14:58:47.345923",
     "status": "completed"
    },
    "tags": []
   },
   "outputs": [],
   "source": [
    "# Iterate the model to make it learn\n",
    "def model_predict(n_features, x, y, learning_rate, n_iterations):\n",
    "    beta_1, beta_0 = weightInitialization(n_features)\n",
    "    costs = []\n",
    "    \n",
    "    for i in range(n_iterations):\n",
    "        \n",
    "        gradients, likelihood, prob = log_model(beta_1, beta_0, x, y)\n",
    "        \n",
    "        dbeta_1 = gradients[\"dbeta_1\"]\n",
    "        dbeta_0 = gradients[\"dbeta_0\"]\n",
    "        #weight update\n",
    "        beta_1 = beta_1 - (learning_rate * dbeta_1)\n",
    "        beta_0 = beta_0 - (learning_rate * dbeta_0)\n",
    "        costs.append(likelihood)\n",
    "        \n",
    "            \n",
    "    #final parameters\n",
    "    y_prob = prob\n",
    "    parameters = {\"beta_1\": beta_1, \"beta_0\": beta_0}\n",
    "    gradient = {\"dbeta_1\": dbeta_1, \"dbeta_0\": dbeta_0}\n",
    "        \n",
    "    return parameters, gradient, costs, y_prob"
   ]
  },
  {
   "cell_type": "code",
   "execution_count": null,
   "id": "187f627b",
   "metadata": {
    "execution": {
     "iopub.execute_input": "2023-02-22T14:58:47.407430Z",
     "iopub.status.busy": "2023-02-22T14:58:47.406990Z",
     "iopub.status.idle": "2023-02-22T14:58:47.413869Z",
     "shell.execute_reply": "2023-02-22T14:58:47.412592Z"
    },
    "papermill": {
     "duration": 0.02578,
     "end_time": "2023-02-22T14:58:47.416240",
     "exception": false,
     "start_time": "2023-02-22T14:58:47.390460",
     "status": "completed"
    },
    "tags": []
   },
   "outputs": [],
   "source": [
    "# Create an array with the final predictions\n",
    "# Given a bias beta_0, a weight beta_1 and a input x return the predicted probability of pass or fail\n",
    "def predict(beta_1, beta_0, x): \n",
    "    t = np.dot(beta_1, x.T) + beta_0\n",
    "    z = sigmoid_vec(t)\n",
    "    y_pred = np.zeros(x.shape[0])\n",
    "    for i in range(y_pred.shape[0]):\n",
    "        if z[i] > 0.5:\n",
    "            y_pred[i] = 1\n",
    "    return y_pred"
   ]
  },
  {
   "cell_type": "markdown",
   "id": "34d0b5e7",
   "metadata": {
    "papermill": {
     "duration": 0.014725,
     "end_time": "2023-02-22T14:58:47.445927",
     "exception": false,
     "start_time": "2023-02-22T14:58:47.431202",
     "status": "completed"
    },
    "tags": []
   },
   "source": [
    "Finally, we define a function to encompass all the functions above:"
   ]
  },
  {
   "cell_type": "code",
   "execution_count": null,
   "id": "f7feb571",
   "metadata": {
    "execution": {
     "iopub.execute_input": "2023-02-22T14:58:47.478496Z",
     "iopub.status.busy": "2023-02-22T14:58:47.478072Z",
     "iopub.status.idle": "2023-02-22T14:58:47.484923Z",
     "shell.execute_reply": "2023-02-22T14:58:47.483602Z"
    },
    "papermill": {
     "duration": 0.026336,
     "end_time": "2023-02-22T14:58:47.487419",
     "exception": false,
     "start_time": "2023-02-22T14:58:47.461083",
     "status": "completed"
    },
    "tags": []
   },
   "outputs": [],
   "source": [
    "# Defining our logistic regression model\n",
    "def my_Logistic_Regression(x_train, y_train, x_test, learning_rate, n_iterations):\n",
    "    n_features = x_train.shape[1] # Dimension of the input\n",
    "    beta_1, beta_0 = weightInitialization(n_features) # Defined above\n",
    "    parameters, gradients, costs, y_prob = model_predict(n_features, x_train, y_train, learning_rate, n_iterations)# Defined above\n",
    "    y_pred = predict(parameters[\"beta_1\"], parameters[\"beta_0\"], x_test) # Defined above\n",
    "    return y_pred, y_prob"
   ]
  },
  {
   "cell_type": "markdown",
   "id": "9baad800",
   "metadata": {
    "papermill": {
     "duration": 0.014645,
     "end_time": "2023-02-22T14:58:47.517410",
     "exception": false,
     "start_time": "2023-02-22T14:58:47.502765",
     "status": "completed"
    },
    "tags": []
   },
   "source": [
    "Now, we will load the Scikit Learning implementation of Logistic Regression to compare with our implementation."
   ]
  },
  {
   "cell_type": "markdown",
   "id": "be7e2569",
   "metadata": {
    "papermill": {
     "duration": 0.01489,
     "end_time": "2023-02-22T14:58:47.547848",
     "exception": false,
     "start_time": "2023-02-22T14:58:47.532958",
     "status": "completed"
    },
    "tags": []
   },
   "source": [
    "# Scikit Learning Implementation\n",
    "\n",
    "The Scikit Learn `linear_model.LogisticRegression()` class implements a regularized logistic regression. his implementation can fit binary, One-vs-Rest, or multinomial logistic regression."
   ]
  },
  {
   "cell_type": "code",
   "execution_count": 10,
   "id": "9c98ed9c",
   "metadata": {
    "execution": {
     "iopub.execute_input": "2023-02-22T14:58:47.579787Z",
     "iopub.status.busy": "2023-02-22T14:58:47.579376Z",
     "iopub.status.idle": "2023-02-22T14:58:48.867036Z",
     "shell.execute_reply": "2023-02-22T14:58:48.865778Z"
    },
    "papermill": {
     "duration": 1.307033,
     "end_time": "2023-02-22T14:58:48.869942",
     "exception": false,
     "start_time": "2023-02-22T14:58:47.562909",
     "status": "completed"
    },
    "tags": []
   },
   "outputs": [],
   "source": [
    "from sklearn.linear_model import LogisticRegression"
   ]
  },
  {
   "cell_type": "markdown",
   "id": "077c0f04",
   "metadata": {
    "papermill": {
     "duration": 0.014734,
     "end_time": "2023-02-22T14:58:48.900371",
     "exception": false,
     "start_time": "2023-02-22T14:58:48.885637",
     "status": "completed"
    },
    "tags": []
   },
   "source": [
    "Let's us import a data set to make predictions. As an example we will use a data set from National Institute of Diabetes and Digestive and Kidney Diseases. The objective of the dataset is to diagnostically predict whether a patient has diabetes, based on certain diagnostic measurements included in the dataset. Several constraints were placed on the selection of  these instances from a larger database. In particular, all patients here are females at least 21 years old of Pima Indian heritage."
   ]
  },
  {
   "cell_type": "code",
   "execution_count": 11,
   "id": "abd62199",
   "metadata": {
    "execution": {
     "iopub.execute_input": "2023-02-22T14:58:48.932309Z",
     "iopub.status.busy": "2023-02-22T14:58:48.931871Z",
     "iopub.status.idle": "2023-02-22T14:58:48.961461Z",
     "shell.execute_reply": "2023-02-22T14:58:48.960105Z"
    },
    "papermill": {
     "duration": 0.048691,
     "end_time": "2023-02-22T14:58:48.964191",
     "exception": false,
     "start_time": "2023-02-22T14:58:48.915500",
     "status": "completed"
    },
    "tags": []
   },
   "outputs": [
    {
     "data": {
      "text/html": [
       "<div>\n",
       "<style scoped>\n",
       "    .dataframe tbody tr th:only-of-type {\n",
       "        vertical-align: middle;\n",
       "    }\n",
       "\n",
       "    .dataframe tbody tr th {\n",
       "        vertical-align: top;\n",
       "    }\n",
       "\n",
       "    .dataframe thead th {\n",
       "        text-align: right;\n",
       "    }\n",
       "</style>\n",
       "<table border=\"1\" class=\"dataframe\">\n",
       "  <thead>\n",
       "    <tr style=\"text-align: right;\">\n",
       "      <th></th>\n",
       "      <th>Pregnancies</th>\n",
       "      <th>Glucose</th>\n",
       "      <th>BloodPressure</th>\n",
       "      <th>SkinThickness</th>\n",
       "      <th>Insulin</th>\n",
       "      <th>BMI</th>\n",
       "      <th>DiabetesPedigreeFunction</th>\n",
       "      <th>Age</th>\n",
       "      <th>Outcome</th>\n",
       "    </tr>\n",
       "  </thead>\n",
       "  <tbody>\n",
       "    <tr>\n",
       "      <th>0</th>\n",
       "      <td>6</td>\n",
       "      <td>148</td>\n",
       "      <td>72</td>\n",
       "      <td>35</td>\n",
       "      <td>0</td>\n",
       "      <td>33.6</td>\n",
       "      <td>0.627</td>\n",
       "      <td>50</td>\n",
       "      <td>1</td>\n",
       "    </tr>\n",
       "    <tr>\n",
       "      <th>1</th>\n",
       "      <td>1</td>\n",
       "      <td>85</td>\n",
       "      <td>66</td>\n",
       "      <td>29</td>\n",
       "      <td>0</td>\n",
       "      <td>26.6</td>\n",
       "      <td>0.351</td>\n",
       "      <td>31</td>\n",
       "      <td>0</td>\n",
       "    </tr>\n",
       "    <tr>\n",
       "      <th>2</th>\n",
       "      <td>8</td>\n",
       "      <td>183</td>\n",
       "      <td>64</td>\n",
       "      <td>0</td>\n",
       "      <td>0</td>\n",
       "      <td>23.3</td>\n",
       "      <td>0.672</td>\n",
       "      <td>32</td>\n",
       "      <td>1</td>\n",
       "    </tr>\n",
       "    <tr>\n",
       "      <th>3</th>\n",
       "      <td>1</td>\n",
       "      <td>89</td>\n",
       "      <td>66</td>\n",
       "      <td>23</td>\n",
       "      <td>94</td>\n",
       "      <td>28.1</td>\n",
       "      <td>0.167</td>\n",
       "      <td>21</td>\n",
       "      <td>0</td>\n",
       "    </tr>\n",
       "    <tr>\n",
       "      <th>4</th>\n",
       "      <td>0</td>\n",
       "      <td>137</td>\n",
       "      <td>40</td>\n",
       "      <td>35</td>\n",
       "      <td>168</td>\n",
       "      <td>43.1</td>\n",
       "      <td>2.288</td>\n",
       "      <td>33</td>\n",
       "      <td>1</td>\n",
       "    </tr>\n",
       "  </tbody>\n",
       "</table>\n",
       "</div>"
      ],
      "text/plain": [
       "   Pregnancies  Glucose  BloodPressure  SkinThickness  Insulin   BMI  \\\n",
       "0            6      148             72             35        0  33.6   \n",
       "1            1       85             66             29        0  26.6   \n",
       "2            8      183             64              0        0  23.3   \n",
       "3            1       89             66             23       94  28.1   \n",
       "4            0      137             40             35      168  43.1   \n",
       "\n",
       "   DiabetesPedigreeFunction  Age  Outcome  \n",
       "0                     0.627   50        1  \n",
       "1                     0.351   31        0  \n",
       "2                     0.672   32        1  \n",
       "3                     0.167   21        0  \n",
       "4                     2.288   33        1  "
      ]
     },
     "execution_count": 11,
     "metadata": {},
     "output_type": "execute_result"
    }
   ],
   "source": [
    "import pandas as pd\n",
    "\n",
    "diabetes_df = pd.read_csv('/kaggle/input/diabetes-dataset/diabetes.csv')\n",
    "diabetes_df.head()"
   ]
  },
  {
   "cell_type": "markdown",
   "id": "35f4b863",
   "metadata": {
    "papermill": {
     "duration": 0.015014,
     "end_time": "2023-02-22T14:58:48.994933",
     "exception": false,
     "start_time": "2023-02-22T14:58:48.979919",
     "status": "completed"
    },
    "tags": []
   },
   "source": [
    "The outcome collumn dysplay 1 for a positive diabetes diagnostic and 0 for negative. \n",
    "\n",
    "Now, we will remove this columns and split the data in a train and test data frames."
   ]
  },
  {
   "cell_type": "code",
   "execution_count": 12,
   "id": "e07550eb",
   "metadata": {
    "execution": {
     "iopub.execute_input": "2023-02-22T14:58:49.028299Z",
     "iopub.status.busy": "2023-02-22T14:58:49.027833Z",
     "iopub.status.idle": "2023-02-22T14:58:49.056108Z",
     "shell.execute_reply": "2023-02-22T14:58:49.054497Z"
    },
    "papermill": {
     "duration": 0.047967,
     "end_time": "2023-02-22T14:58:49.058948",
     "exception": false,
     "start_time": "2023-02-22T14:58:49.010981",
     "status": "completed"
    },
    "tags": []
   },
   "outputs": [
    {
     "name": "stdout",
     "output_type": "stream",
     "text": [
      "<class 'pandas.core.frame.DataFrame'>\n",
      "RangeIndex: 768 entries, 0 to 767\n",
      "Data columns (total 9 columns):\n",
      " #   Column                    Non-Null Count  Dtype  \n",
      "---  ------                    --------------  -----  \n",
      " 0   Pregnancies               768 non-null    int64  \n",
      " 1   Glucose                   768 non-null    int64  \n",
      " 2   BloodPressure             768 non-null    int64  \n",
      " 3   SkinThickness             768 non-null    int64  \n",
      " 4   Insulin                   768 non-null    int64  \n",
      " 5   BMI                       768 non-null    float64\n",
      " 6   DiabetesPedigreeFunction  768 non-null    float64\n",
      " 7   Age                       768 non-null    int64  \n",
      " 8   Outcome                   768 non-null    int64  \n",
      "dtypes: float64(2), int64(7)\n",
      "memory usage: 54.1 KB\n"
     ]
    }
   ],
   "source": [
    "diabetes_df.info()"
   ]
  },
  {
   "cell_type": "code",
   "execution_count": 13,
   "id": "4026fa58",
   "metadata": {
    "execution": {
     "iopub.execute_input": "2023-02-22T14:58:49.091975Z",
     "iopub.status.busy": "2023-02-22T14:58:49.091013Z",
     "iopub.status.idle": "2023-02-22T14:58:49.102440Z",
     "shell.execute_reply": "2023-02-22T14:58:49.101240Z"
    },
    "papermill": {
     "duration": 0.03073,
     "end_time": "2023-02-22T14:58:49.105183",
     "exception": false,
     "start_time": "2023-02-22T14:58:49.074453",
     "status": "completed"
    },
    "tags": []
   },
   "outputs": [],
   "source": [
    "from sklearn.model_selection import train_test_split\n",
    "y = diabetes_df['Outcome']\n",
    "X = diabetes_df.drop(axis=1, columns='Outcome')\n",
    "\n",
    "X_train, X_test, y_train, y_test = train_test_split(X, y, random_state=1, test_size=0.5)"
   ]
  },
  {
   "cell_type": "markdown",
   "id": "04b56ccb",
   "metadata": {
    "papermill": {
     "duration": 0.015564,
     "end_time": "2023-02-22T14:58:49.136161",
     "exception": false,
     "start_time": "2023-02-22T14:58:49.120597",
     "status": "completed"
    },
    "tags": []
   },
   "source": [
    "### Fit the Model"
   ]
  },
  {
   "cell_type": "code",
   "execution_count": 14,
   "id": "bc6b19df",
   "metadata": {
    "execution": {
     "iopub.execute_input": "2023-02-22T14:58:49.169905Z",
     "iopub.status.busy": "2023-02-22T14:58:49.169145Z",
     "iopub.status.idle": "2023-02-22T14:58:49.220776Z",
     "shell.execute_reply": "2023-02-22T14:58:49.219415Z"
    },
    "papermill": {
     "duration": 0.071872,
     "end_time": "2023-02-22T14:58:49.223509",
     "exception": false,
     "start_time": "2023-02-22T14:58:49.151637",
     "status": "completed"
    },
    "tags": []
   },
   "outputs": [
    {
     "data": {
      "text/plain": [
       "LogisticRegression(max_iter=150, random_state=1)"
      ]
     },
     "execution_count": 14,
     "metadata": {},
     "output_type": "execute_result"
    }
   ],
   "source": [
    "# Defining our logistic regression model fixing a random state (to do always the same predictions) and the number of iterations \n",
    "sk_model = LogisticRegression(random_state=1, max_iter=150)\n",
    "# Training our model\n",
    "sk_model.fit(X_train, y_train)"
   ]
  },
  {
   "cell_type": "code",
   "execution_count": 15,
   "id": "f98c2de8",
   "metadata": {
    "execution": {
     "iopub.execute_input": "2023-02-22T14:58:49.257957Z",
     "iopub.status.busy": "2023-02-22T14:58:49.257063Z",
     "iopub.status.idle": "2023-02-22T14:58:49.264710Z",
     "shell.execute_reply": "2023-02-22T14:58:49.263729Z"
    },
    "papermill": {
     "duration": 0.02824,
     "end_time": "2023-02-22T14:58:49.267404",
     "exception": false,
     "start_time": "2023-02-22T14:58:49.239164",
     "status": "completed"
    },
    "tags": []
   },
   "outputs": [],
   "source": [
    "# Making predictions\n",
    "sk_predictions = sk_model.predict(X_test)"
   ]
  },
  {
   "cell_type": "markdown",
   "id": "dff9747e",
   "metadata": {
    "papermill": {
     "duration": 0.015231,
     "end_time": "2023-02-22T14:58:49.298075",
     "exception": false,
     "start_time": "2023-02-22T14:58:49.282844",
     "status": "completed"
    },
    "tags": []
   },
   "source": [
    "# Measuring performance of Scikit Learning predictions"
   ]
  },
  {
   "cell_type": "markdown",
   "id": "3a6fd764-fabd-4d68-b25e-dd53918dcdd2",
   "metadata": {
    "papermill": {
     "duration": 0.017585,
     "end_time": "2023-02-22T14:58:52.850263",
     "exception": false,
     "start_time": "2023-02-22T14:58:52.832678",
     "status": "completed"
    },
    "tags": []
   },
   "source": [
    "### Confusion Matrix\n",
    "\n",
    "The confusion matrix can tells us the number of true/false positive/negative predictions. By the time, we can calculate the precision rate, the missclassification rate, accuracy, prevalacence, etc. Let's see with more details the quantities that we can calculate using confusion matrix:\n",
    "\n",
    "1) Accuracy = (TP+TN/total) Is the overall evaluation of the classifier.\n",
    "\n",
    "2) Sensitivity = TP/(actual number of 1's) Indicates how many times 1 is predicted correctly.\n",
    "\n",
    "3) Fall-out = FP/(actual number of 0's) Indicates how many times 1 is predicted when actual answer is 0.\n",
    "\n",
    "4) Specificity = TN/(actual number of 0's) Indicates how many times 0 is predicted correctly.\n",
    "\n",
    "5) Misclassification Rate = (FP+FN)/(total) Tells about how often our model is wrong.\n",
    "\n",
    "6) Precision = TP/(TP + FP) Gives the rate of correct predictions.\n",
    "\n",
    "7) Prevalence = (actual number of 1's /total) Indicates how often condition 1 really occurs."
   ]
  },
  {
   "cell_type": "code",
   "execution_count": 16,
   "id": "a9feb0ac",
   "metadata": {
    "execution": {
     "iopub.execute_input": "2023-02-22T14:58:49.332521Z",
     "iopub.status.busy": "2023-02-22T14:58:49.331465Z",
     "iopub.status.idle": "2023-02-22T14:58:49.336987Z",
     "shell.execute_reply": "2023-02-22T14:58:49.336101Z"
    },
    "papermill": {
     "duration": 0.026153,
     "end_time": "2023-02-22T14:58:49.339860",
     "exception": false,
     "start_time": "2023-02-22T14:58:49.313707",
     "status": "completed"
    },
    "tags": []
   },
   "outputs": [],
   "source": [
    "# Importing a metric\n",
    "from sklearn.metrics import accuracy_score, classification_report"
   ]
  },
  {
   "cell_type": "code",
   "execution_count": 17,
   "id": "27b2df50",
   "metadata": {
    "execution": {
     "iopub.execute_input": "2023-02-22T14:58:49.373651Z",
     "iopub.status.busy": "2023-02-22T14:58:49.372797Z",
     "iopub.status.idle": "2023-02-22T14:58:49.380991Z",
     "shell.execute_reply": "2023-02-22T14:58:49.379866Z"
    },
    "papermill": {
     "duration": 0.027629,
     "end_time": "2023-02-22T14:58:49.383374",
     "exception": false,
     "start_time": "2023-02-22T14:58:49.355745",
     "status": "completed"
    },
    "tags": []
   },
   "outputs": [
    {
     "data": {
      "text/plain": [
       "0.7708333333333334"
      ]
     },
     "execution_count": 17,
     "metadata": {},
     "output_type": "execute_result"
    }
   ],
   "source": [
    "sk_score = accuracy_score(y_test, sk_predictions)\n",
    "sk_score"
   ]
  },
  {
   "cell_type": "code",
   "execution_count": 18,
   "id": "18703b14",
   "metadata": {
    "execution": {
     "iopub.execute_input": "2023-02-22T14:58:49.418874Z",
     "iopub.status.busy": "2023-02-22T14:58:49.418202Z",
     "iopub.status.idle": "2023-02-22T14:58:49.429362Z",
     "shell.execute_reply": "2023-02-22T14:58:49.428116Z"
    },
    "papermill": {
     "duration": 0.032676,
     "end_time": "2023-02-22T14:58:49.432906",
     "exception": false,
     "start_time": "2023-02-22T14:58:49.400230",
     "status": "completed"
    },
    "tags": []
   },
   "outputs": [
    {
     "name": "stdout",
     "output_type": "stream",
     "text": [
      "              precision    recall  f1-score   support\n",
      "\n",
      "           0       0.78      0.89      0.83       246\n",
      "           1       0.74      0.57      0.64       138\n",
      "\n",
      "    accuracy                           0.77       384\n",
      "   macro avg       0.76      0.73      0.74       384\n",
      "weighted avg       0.77      0.77      0.76       384\n",
      "\n"
     ]
    }
   ],
   "source": [
    "print(classification_report(y_test, sk_predictions))"
   ]
  },
  {
   "cell_type": "markdown",
   "id": "a64fff1b",
   "metadata": {
    "papermill": {
     "duration": 0.016946,
     "end_time": "2023-02-22T14:58:49.466773",
     "exception": false,
     "start_time": "2023-02-22T14:58:49.449827",
     "status": "completed"
    },
    "tags": []
   },
   "source": [
    "This means that the Scikit Learning logistic model with the parameters choice above hit the predictions nearly $77\\%$ of the time, for the Diabets dataset. Its not so good having $23\\%$ of a population being incorrectly diagnosed, but its important to note that this is a simple example, to improve this score one can vary some parameters of the Logistic Regression class and fetch for correlation between the dependent variables. "
   ]
  },
  {
   "cell_type": "code",
   "execution_count": 19,
   "id": "d3a4068a",
   "metadata": {
    "execution": {
     "iopub.execute_input": "2023-02-22T14:58:49.501043Z",
     "iopub.status.busy": "2023-02-22T14:58:49.500573Z",
     "iopub.status.idle": "2023-02-22T14:58:49.508553Z",
     "shell.execute_reply": "2023-02-22T14:58:49.507259Z"
    },
    "papermill": {
     "duration": 0.028228,
     "end_time": "2023-02-22T14:58:49.511422",
     "exception": false,
     "start_time": "2023-02-22T14:58:49.483194",
     "status": "completed"
    },
    "tags": []
   },
   "outputs": [],
   "source": [
    "# Predict the classes on the test data, and return the probabilities for each class\n",
    "sk_y_prob = sk_model.predict_proba(X_test)"
   ]
  },
  {
   "cell_type": "code",
   "execution_count": 20,
   "id": "73f0d2fc",
   "metadata": {
    "execution": {
     "iopub.execute_input": "2023-02-22T14:58:49.545788Z",
     "iopub.status.busy": "2023-02-22T14:58:49.545328Z",
     "iopub.status.idle": "2023-02-22T14:58:49.552386Z",
     "shell.execute_reply": "2023-02-22T14:58:49.551092Z"
    },
    "papermill": {
     "duration": 0.027789,
     "end_time": "2023-02-22T14:58:49.555081",
     "exception": false,
     "start_time": "2023-02-22T14:58:49.527292",
     "status": "completed"
    },
    "tags": []
   },
   "outputs": [],
   "source": [
    "# Calculate the Cumulative Distribution Finction (CDF)\n",
    "def cdf(sample, x, sort = False):\n",
    "    '''\n",
    "    Return the value of the Cumulative Distribution Function, evaluated for a given sample and a value x.\n",
    "    \n",
    "    Args:\n",
    "        sample: The list or array of observations.\n",
    "        x: The value for which the numerical cdf is evaluated.\n",
    "    \n",
    "    Returns:\n",
    "        cdf = CDF_{sample}(x)\n",
    "    '''\n",
    "    \n",
    "    # Sorts the sample, if needed\n",
    "    if sort:\n",
    "        sample.sort()\n",
    "    \n",
    "    # Counts how many observations are below x\n",
    "    cdf = sum(sample <= x)\n",
    "    \n",
    "    # Divides by the total number of observations\n",
    "    cdf = cdf / len(sample)\n",
    "    \n",
    "    return cdf"
   ]
  },
  {
   "cell_type": "code",
   "execution_count": 21,
   "id": "20eeae8d",
   "metadata": {
    "execution": {
     "iopub.execute_input": "2023-02-22T14:58:49.589603Z",
     "iopub.status.busy": "2023-02-22T14:58:49.588752Z",
     "iopub.status.idle": "2023-02-22T14:58:49.597413Z",
     "shell.execute_reply": "2023-02-22T14:58:49.596269Z"
    },
    "papermill": {
     "duration": 0.029224,
     "end_time": "2023-02-22T14:58:49.600441",
     "exception": false,
     "start_time": "2023-02-22T14:58:49.571217",
     "status": "completed"
    },
    "tags": []
   },
   "outputs": [],
   "source": [
    "# Gets the class CDFs\n",
    "def get_classes_cdf(y_real, y_proba):\n",
    "    # Unite both visions to be able to filter\n",
    "    df = pd.DataFrame()\n",
    "    df['real'] = y_real\n",
    "    df['proba'] = y_proba\n",
    "    \n",
    "    # Recover each class\n",
    "    class0 = df[df['real'] == 0].sort_values('proba')\n",
    "    class1 = df[df['real'] == 1].sort_values('proba')\n",
    "    \n",
    "    # Calculates the cdfs\n",
    "    cdf0 = np.array([cdf(class0['proba'].values, x, sort = False) for x in class0['proba'].values])\n",
    "    cdf1 = np.array([cdf(class1['proba'].values, x, sort = False) for x in class1['proba'].values])\n",
    "    \n",
    "    # Results\n",
    "    results =  {\n",
    "        'cdf0': cdf0,\n",
    "        'cdf1': cdf1,\n",
    "        'proba0': class0['proba'].values, \n",
    "        'proba1': class1['proba'].values, \n",
    "    }\n",
    "    \n",
    "    return results"
   ]
  },
  {
   "cell_type": "code",
   "execution_count": 22,
   "id": "00c74c2b",
   "metadata": {
    "execution": {
     "iopub.execute_input": "2023-02-22T14:58:49.635225Z",
     "iopub.status.busy": "2023-02-22T14:58:49.634747Z",
     "iopub.status.idle": "2023-02-22T14:58:49.812805Z",
     "shell.execute_reply": "2023-02-22T14:58:49.811702Z"
    },
    "papermill": {
     "duration": 0.199132,
     "end_time": "2023-02-22T14:58:49.815573",
     "exception": false,
     "start_time": "2023-02-22T14:58:49.616441",
     "status": "completed"
    },
    "tags": []
   },
   "outputs": [],
   "source": [
    "sk_cdf = get_classes_cdf(y_test, sk_y_prob[:, 1])"
   ]
  },
  {
   "cell_type": "code",
   "execution_count": 23,
   "id": "d749185b",
   "metadata": {
    "execution": {
     "iopub.execute_input": "2023-02-22T14:58:49.849450Z",
     "iopub.status.busy": "2023-02-22T14:58:49.848956Z",
     "iopub.status.idle": "2023-02-22T14:58:50.059446Z",
     "shell.execute_reply": "2023-02-22T14:58:50.058013Z"
    },
    "papermill": {
     "duration": 0.231932,
     "end_time": "2023-02-22T14:58:50.063249",
     "exception": false,
     "start_time": "2023-02-22T14:58:49.831317",
     "status": "completed"
    },
    "tags": []
   },
   "outputs": [],
   "source": [
    "import seaborn as sns # Data visualization"
   ]
  },
  {
   "cell_type": "code",
   "execution_count": 24,
   "id": "76838441",
   "metadata": {
    "execution": {
     "iopub.execute_input": "2023-02-22T14:58:50.097324Z",
     "iopub.status.busy": "2023-02-22T14:58:50.096880Z",
     "iopub.status.idle": "2023-02-22T14:58:50.515429Z",
     "shell.execute_reply": "2023-02-22T14:58:50.514118Z"
    },
    "papermill": {
     "duration": 0.439097,
     "end_time": "2023-02-22T14:58:50.518207",
     "exception": false,
     "start_time": "2023-02-22T14:58:50.079110",
     "status": "completed"
    },
    "tags": []
   },
   "outputs": [
    {
     "data": {
      "image/png": "[encoded data removed]",
      "text/plain": [
       "<Figure size 720x432 with 1 Axes>"
      ]
     },
     "metadata": {
      "needs_background": "light"
     },
     "output_type": "display_data"
    }
   ],
   "source": [
    "# Visualize the ROC curve\n",
    "fig = plt.figure(figsize = (10, 6))\n",
    "ax1 = plt.subplot()\n",
    "\n",
    "ax1.set_title(\"Scikit Learning Cumulative Distribution Function (CDF)\")\n",
    "sns.lineplot(x = sk_cdf['proba0'], y = sk_cdf['cdf0'], color = 'b', ax = ax1, linewidth = 3)\n",
    "sns.lineplot(x = sk_cdf['proba1'], y = sk_cdf['cdf1'], color = 'g', ax = ax1, linewidth = 3)\n",
    "ax1.legend([\"class 0\", \"class 1\"])\n",
    "\n",
    "plt.tight_layout()"
   ]
  },
  {
   "cell_type": "code",
   "execution_count": 25,
   "id": "47fcc5c5",
   "metadata": {
    "execution": {
     "iopub.execute_input": "2023-02-22T14:58:50.554164Z",
     "iopub.status.busy": "2023-02-22T14:58:50.553711Z",
     "iopub.status.idle": "2023-02-22T14:58:50.559536Z",
     "shell.execute_reply": "2023-02-22T14:58:50.558200Z"
    },
    "papermill": {
     "duration": 0.0272,
     "end_time": "2023-02-22T14:58:50.562353",
     "exception": false,
     "start_time": "2023-02-22T14:58:50.535153",
     "status": "completed"
    },
    "tags": []
   },
   "outputs": [],
   "source": [
    "from scipy.stats import ks_2samp # Kolmogorv-Smirnov (KS) Test\n",
    "from sklearn.metrics import roc_auc_score #ROC Area Under Curve (AUC) score"
   ]
  },
  {
   "cell_type": "code",
   "execution_count": 26,
   "id": "ea7f4e65",
   "metadata": {
    "execution": {
     "iopub.execute_input": "2023-02-22T14:58:50.597460Z",
     "iopub.status.busy": "2023-02-22T14:58:50.596982Z",
     "iopub.status.idle": "2023-02-22T14:58:50.604526Z",
     "shell.execute_reply": "2023-02-22T14:58:50.603342Z"
    },
    "papermill": {
     "duration": 0.028067,
     "end_time": "2023-02-22T14:58:50.606790",
     "exception": false,
     "start_time": "2023-02-22T14:58:50.578723",
     "status": "completed"
    },
    "tags": []
   },
   "outputs": [],
   "source": [
    "# Calculate the KS and the AUC values\n",
    "def evaluate_ks_and_roc_auc(y_real, y_proba):\n",
    "    # Unite both visions to be able to filter\n",
    "    df = pd.DataFrame()\n",
    "    df['real'] = y_real\n",
    "    df['proba'] = y_proba\n",
    "    \n",
    "    # Recover each class\n",
    "    class0 = df[df['real'] == 0]\n",
    "    class1 = df[df['real'] == 1]\n",
    "    \n",
    "    ks = ks_2samp(class0['proba'], class1['proba'])\n",
    "    roc_auc = roc_auc_score(df['real'] , df['proba'])\n",
    "    \n",
    "    print(f\"KS: {ks.statistic:.4f} (p-value: {ks.pvalue:.3e})\")\n",
    "    print(f\"ROC AUC: {roc_auc:.4f}\")\n",
    "    \n",
    "    return ks.statistic, roc_auc"
   ]
  },
  {
   "cell_type": "code",
   "execution_count": 27,
   "id": "7734132a",
   "metadata": {
    "execution": {
     "iopub.execute_input": "2023-02-22T14:58:50.643014Z",
     "iopub.status.busy": "2023-02-22T14:58:50.642165Z",
     "iopub.status.idle": "2023-02-22T14:58:50.657224Z",
     "shell.execute_reply": "2023-02-22T14:58:50.655492Z"
    },
    "papermill": {
     "duration": 0.03636,
     "end_time": "2023-02-22T14:58:50.659790",
     "exception": false,
     "start_time": "2023-02-22T14:58:50.623430",
     "status": "completed"
    },
    "tags": []
   },
   "outputs": [
    {
     "name": "stdout",
     "output_type": "stream",
     "text": [
      "Scikit Learning classifier:\n",
      "KS: 0.5274 (p-value: 2.401e-23)\n",
      "ROC AUC: 0.8303\n"
     ]
    }
   ],
   "source": [
    "print(\"Scikit Learning classifier:\")\n",
    "ks_sk, auc_sk = evaluate_ks_and_roc_auc(y_test, sk_y_prob[:, 1])"
   ]
  },
  {
   "cell_type": "code",
   "execution_count": 28,
   "id": "68837d23",
   "metadata": {
    "execution": {
     "iopub.execute_input": "2023-02-22T14:58:50.695049Z",
     "iopub.status.busy": "2023-02-22T14:58:50.694175Z",
     "iopub.status.idle": "2023-02-22T14:58:50.699290Z",
     "shell.execute_reply": "2023-02-22T14:58:50.698367Z"
    },
    "papermill": {
     "duration": 0.025226,
     "end_time": "2023-02-22T14:58:50.701654",
     "exception": false,
     "start_time": "2023-02-22T14:58:50.676428",
     "status": "completed"
    },
    "tags": []
   },
   "outputs": [],
   "source": [
    "from sklearn.metrics import roc_curve # Build the Receiver Operating Characteristic Curve"
   ]
  },
  {
   "cell_type": "code",
   "execution_count": 29,
   "id": "e4f21e0a",
   "metadata": {
    "execution": {
     "iopub.execute_input": "2023-02-22T14:58:50.738319Z",
     "iopub.status.busy": "2023-02-22T14:58:50.736991Z",
     "iopub.status.idle": "2023-02-22T14:58:50.748047Z",
     "shell.execute_reply": "2023-02-22T14:58:50.746368Z"
    },
    "papermill": {
     "duration": 0.032088,
     "end_time": "2023-02-22T14:58:50.750949",
     "exception": false,
     "start_time": "2023-02-22T14:58:50.718861",
     "status": "completed"
    },
    "tags": []
   },
   "outputs": [],
   "source": [
    "logit_roc_auc = roc_auc_score(y_test, sk_predictions) \n",
    "fpr, tpr, thresholds = roc_curve(y_test, sk_y_prob[:,1])"
   ]
  },
  {
   "cell_type": "code",
   "execution_count": 30,
   "id": "53444398",
   "metadata": {
    "execution": {
     "iopub.execute_input": "2023-02-22T14:58:50.786955Z",
     "iopub.status.busy": "2023-02-22T14:58:50.785759Z",
     "iopub.status.idle": "2023-02-22T14:58:51.047212Z",
     "shell.execute_reply": "2023-02-22T14:58:51.045786Z"
    },
    "papermill": {
     "duration": 0.281945,
     "end_time": "2023-02-22T14:58:51.049747",
     "exception": false,
     "start_time": "2023-02-22T14:58:50.767802",
     "status": "completed"
    },
    "tags": []
   },
   "outputs": [
    {
     "data": {
      "image/png": "[encoded data removed]",
      "text/plain": [
       "<Figure size 864x576 with 1 Axes>"
      ]
     },
     "metadata": {
      "needs_background": "light"
     },
     "output_type": "display_data"
    }
   ],
   "source": [
    "plt.figure(figsize = (12,8)) \n",
    "plt.plot(fpr, tpr, label='Logistic Regression (area = %0.2f)' % logit_roc_auc) \n",
    "plt.plot([0, 1], [0, 1],'r--') \n",
    "plt.text(0.5, 0.5, \"varying threshold scores (0-1)\", rotation=0, size=12,ha=\"center\", va=\"center\",bbox=dict(boxstyle=\"rarrow\"))\n",
    "plt.xlabel('False Positive Rate') \n",
    "plt.ylabel('True Positive Rate') \n",
    "plt.title('Receiver operating characteristic') \n",
    "plt.legend(loc=\"lower right\") \n",
    "#plt.savefig('Log_ROC') \n",
    "plt.show()"
   ]
  },
  {
   "cell_type": "markdown",
   "id": "13dd5048",
   "metadata": {
    "papermill": {
     "duration": 0.018011,
     "end_time": "2023-02-22T14:58:51.086594",
     "exception": false,
     "start_time": "2023-02-22T14:58:51.068583",
     "status": "completed"
    },
    "tags": []
   },
   "source": [
    "# Comparing our Logistic Model with the Scikit Learning Class "
   ]
  },
  {
   "cell_type": "code",
   "execution_count": 31,
   "id": "2bc7b3c4",
   "metadata": {
    "execution": {
     "iopub.execute_input": "2023-02-22T14:58:51.123703Z",
     "iopub.status.busy": "2023-02-22T14:58:51.123250Z",
     "iopub.status.idle": "2023-02-22T14:58:51.761733Z",
     "shell.execute_reply": "2023-02-22T14:58:51.760358Z"
    },
    "papermill": {
     "duration": 0.66082,
     "end_time": "2023-02-22T14:58:51.764621",
     "exception": false,
     "start_time": "2023-02-22T14:58:51.103801",
     "status": "completed"
    },
    "tags": []
   },
   "outputs": [],
   "source": [
    "my_pred, y_prob = my_Logistic_Regression(X_train, y_train, X_test, learning_rate=1e-6, n_iterations=500)"
   ]
  },
  {
   "cell_type": "code",
   "execution_count": 32,
   "id": "7cbb4092",
   "metadata": {
    "execution": {
     "iopub.execute_input": "2023-02-22T14:58:51.800871Z",
     "iopub.status.busy": "2023-02-22T14:58:51.800326Z",
     "iopub.status.idle": "2023-02-22T14:58:51.809185Z",
     "shell.execute_reply": "2023-02-22T14:58:51.807914Z"
    },
    "papermill": {
     "duration": 0.029988,
     "end_time": "2023-02-22T14:58:51.811758",
     "exception": false,
     "start_time": "2023-02-22T14:58:51.781770",
     "status": "completed"
    },
    "tags": []
   },
   "outputs": [
    {
     "data": {
      "text/plain": [
       "0.6432291666666666"
      ]
     },
     "execution_count": 32,
     "metadata": {},
     "output_type": "execute_result"
    }
   ],
   "source": [
    "accuracy_score(y_test, my_pred)"
   ]
  },
  {
   "cell_type": "markdown",
   "id": "b80b1528",
   "metadata": {
    "papermill": {
     "duration": 0.017005,
     "end_time": "2023-02-22T14:58:51.845930",
     "exception": false,
     "start_time": "2023-02-22T14:58:51.828925",
     "status": "completed"
    },
    "tags": []
   },
   "source": [
    "Our implementation scored relatively well compared to the Scikit Learning class for this particular case."
   ]
  },
  {
   "cell_type": "markdown",
   "id": "41836a1f",
   "metadata": {
    "papermill": {
     "duration": 0.016758,
     "end_time": "2023-02-22T14:58:51.879663",
     "exception": false,
     "start_time": "2023-02-22T14:58:51.862905",
     "status": "completed"
    },
    "tags": []
   },
   "source": [
    "**Note:** The best result is reached when the learning rate is chosen to avoid the gradients being much greater (or smaller) than the parameters $\\beta$. For this particular dataset the learning rate of the order of $10^{-6}$ performs well.  "
   ]
  },
  {
   "cell_type": "code",
   "execution_count": 33,
   "id": "746aa56a",
   "metadata": {
    "execution": {
     "iopub.execute_input": "2023-02-22T14:58:51.915586Z",
     "iopub.status.busy": "2023-02-22T14:58:51.915175Z",
     "iopub.status.idle": "2023-02-22T14:58:52.540274Z",
     "shell.execute_reply": "2023-02-22T14:58:52.538836Z"
    },
    "papermill": {
     "duration": 0.646456,
     "end_time": "2023-02-22T14:58:52.543222",
     "exception": false,
     "start_time": "2023-02-22T14:58:51.896766",
     "status": "completed"
    },
    "tags": []
   },
   "outputs": [],
   "source": [
    "par, grad, costs, prob = model_predict(X_train.shape[1], X_train, y_train, 1e-6, 500)"
   ]
  },
  {
   "cell_type": "code",
   "execution_count": 34,
   "id": "28bfb0e9",
   "metadata": {
    "execution": {
     "iopub.execute_input": "2023-02-22T14:58:52.580185Z",
     "iopub.status.busy": "2023-02-22T14:58:52.579664Z",
     "iopub.status.idle": "2023-02-22T14:58:52.812101Z",
     "shell.execute_reply": "2023-02-22T14:58:52.810767Z"
    },
    "papermill": {
     "duration": 0.254125,
     "end_time": "2023-02-22T14:58:52.814921",
     "exception": false,
     "start_time": "2023-02-22T14:58:52.560796",
     "status": "completed"
    },
    "tags": []
   },
   "outputs": [
    {
     "data": {
      "text/plain": [
       "Text(0, 0.5, 'Likelihood')"
      ]
     },
     "execution_count": 34,
     "metadata": {},
     "output_type": "execute_result"
    },
    {
     "data": {
      "image/png": "[encoded data removed]",
      "text/plain": [
       "<Figure size 720x432 with 1 Axes>"
      ]
     },
     "metadata": {
      "needs_background": "light"
     },
     "output_type": "display_data"
    }
   ],
   "source": [
    "plt.figure(figsize = (10, 6))\n",
    "plt.plot(costs)\n",
    "\n",
    "plt.xlabel(xlabel=\"Iterations\")\n",
    "plt.ylabel(ylabel=\"Likelihood\")"
   ]
  },
  {
   "cell_type": "code",
   "execution_count": 35,
   "id": "52d482ea",
   "metadata": {
    "execution": {
     "iopub.execute_input": "2023-02-22T14:58:52.887487Z",
     "iopub.status.busy": "2023-02-22T14:58:52.887010Z",
     "iopub.status.idle": "2023-02-22T14:58:52.895582Z",
     "shell.execute_reply": "2023-02-22T14:58:52.894327Z"
    },
    "papermill": {
     "duration": 0.030366,
     "end_time": "2023-02-22T14:58:52.898207",
     "exception": false,
     "start_time": "2023-02-22T14:58:52.867841",
     "status": "completed"
    },
    "tags": []
   },
   "outputs": [],
   "source": [
    "from sklearn.metrics import confusion_matrix\n",
    "\n",
    "c_matrix = confusion_matrix(y_test, my_pred) # Calculate the confusion matrix"
   ]
  },
  {
   "cell_type": "code",
   "execution_count": 36,
   "id": "518605d5",
   "metadata": {
    "execution": {
     "iopub.execute_input": "2023-02-22T14:58:52.934833Z",
     "iopub.status.busy": "2023-02-22T14:58:52.934419Z",
     "iopub.status.idle": "2023-02-22T14:58:53.205757Z",
     "shell.execute_reply": "2023-02-22T14:58:53.204626Z"
    },
    "papermill": {
     "duration": 0.292788,
     "end_time": "2023-02-22T14:58:53.208398",
     "exception": false,
     "start_time": "2023-02-22T14:58:52.915610",
     "status": "completed"
    },
    "tags": []
   },
   "outputs": [
    {
     "data": {
      "text/plain": [
       "Text(33.0, 0.5, 'Actual')"
      ]
     },
     "execution_count": 36,
     "metadata": {},
     "output_type": "execute_result"
    },
    {
     "data": {
      "image/png": "[encoded data removed]",
      "text/plain": [
       "<Figure size 432x288 with 2 Axes>"
      ]
     },
     "metadata": {
      "needs_background": "light"
     },
     "output_type": "display_data"
    }
   ],
   "source": [
    "sns.heatmap(c_matrix, annot=True, cmap='Blues',fmt='.3g')\n",
    "plt.xlabel(xlabel=\"Predicted\")\n",
    "plt.ylabel(ylabel=\"Actual\")"
   ]
  },
  {
   "cell_type": "code",
   "execution_count": 37,
   "id": "7ac47d76",
   "metadata": {
    "execution": {
     "iopub.execute_input": "2023-02-22T14:58:53.247945Z",
     "iopub.status.busy": "2023-02-22T14:58:53.247512Z",
     "iopub.status.idle": "2023-02-22T14:58:53.257398Z",
     "shell.execute_reply": "2023-02-22T14:58:53.256475Z"
    },
    "papermill": {
     "duration": 0.033546,
     "end_time": "2023-02-22T14:58:53.259500",
     "exception": false,
     "start_time": "2023-02-22T14:58:53.225954",
     "status": "completed"
    },
    "tags": []
   },
   "outputs": [],
   "source": [
    "accu = (c_matrix[0][0] + c_matrix[1][1])/np.sum(c_matrix)\n",
    "sens = c_matrix[1][1]/(c_matrix[1][0]+c_matrix[1][1])\n",
    "fall = c_matrix[0][1]/(c_matrix[0][0]+c_matrix[0][1])\n",
    "spec = c_matrix[0][0]/(c_matrix[0][0]+c_matrix[0][1])\n",
    "misc = (c_matrix[0][1] + c_matrix[1][0])/np.sum(c_matrix)\n",
    "prec = c_matrix[1][1]/(c_matrix[1][1]+c_matrix[0][1])\n",
    "prev = (c_matrix[1][1] + c_matrix[1][0])/np.sum(c_matrix)"
   ]
  },
  {
   "cell_type": "code",
   "execution_count": 38,
   "id": "cbcda246",
   "metadata": {
    "execution": {
     "iopub.execute_input": "2023-02-22T14:58:53.296045Z",
     "iopub.status.busy": "2023-02-22T14:58:53.295581Z",
     "iopub.status.idle": "2023-02-22T14:58:53.302352Z",
     "shell.execute_reply": "2023-02-22T14:58:53.301287Z"
    },
    "papermill": {
     "duration": 0.028254,
     "end_time": "2023-02-22T14:58:53.305234",
     "exception": false,
     "start_time": "2023-02-22T14:58:53.276980",
     "status": "completed"
    },
    "tags": []
   },
   "outputs": [
    {
     "name": "stdout",
     "output_type": "stream",
     "text": [
      "Accuracy: 0.64\n",
      "Sensitivity: 0.23\n",
      "Fall-out: 0.13\n",
      "Specificity: 0.87\n",
      "Misclassification Rate: 0.36\n",
      "Precision: 0.51\n",
      "Prevalence: 0.36\n"
     ]
    }
   ],
   "source": [
    "print(\"Accuracy: %.2f\" % accu)\n",
    "print(\"Sensitivity: %.2f\" % sens)\n",
    "print(\"Fall-out: %.2f\" % fall)\n",
    "print(\"Specificity: %.2f\" % spec)\n",
    "print(\"Misclassification Rate: %.2f\" % misc)\n",
    "print(\"Precision: %.2f\" % prec)\n",
    "print(\"Prevalence: %.2f\" % prev)"
   ]
  },
  {
   "cell_type": "markdown",
   "id": "9088e0a0",
   "metadata": {
    "papermill": {
     "duration": 0.017273,
     "end_time": "2023-02-22T14:58:53.341501",
     "exception": false,
     "start_time": "2023-02-22T14:58:53.324228",
     "status": "completed"
    },
    "tags": []
   },
   "source": [
    "Looking at the specificity we can see that our model is good to predict a negative result but the precision (true positive rate) shows that it does'n performed well on positive diagnostics."
   ]
  },
  {
   "cell_type": "code",
   "execution_count": 39,
   "id": "5fa69483",
   "metadata": {
    "execution": {
     "iopub.execute_input": "2023-02-22T14:58:53.379075Z",
     "iopub.status.busy": "2023-02-22T14:58:53.378609Z",
     "iopub.status.idle": "2023-02-22T14:58:53.394404Z",
     "shell.execute_reply": "2023-02-22T14:58:53.392452Z"
    },
    "papermill": {
     "duration": 0.038953,
     "end_time": "2023-02-22T14:58:53.398587",
     "exception": false,
     "start_time": "2023-02-22T14:58:53.359634",
     "status": "completed"
    },
    "tags": []
   },
   "outputs": [
    {
     "name": "stdout",
     "output_type": "stream",
     "text": [
      "              precision    recall  f1-score   support\n",
      "\n",
      "           0       0.67      0.87      0.76       246\n",
      "           1       0.51      0.23      0.32       138\n",
      "\n",
      "    accuracy                           0.64       384\n",
      "   macro avg       0.59      0.55      0.54       384\n",
      "weighted avg       0.61      0.64      0.60       384\n",
      "\n"
     ]
    }
   ],
   "source": [
    "print(classification_report(y_test, my_pred))"
   ]
  },
  {
   "cell_type": "markdown",
   "id": "283172b9",
   "metadata": {
    "papermill": {
     "duration": 0.017683,
     "end_time": "2023-02-22T14:58:53.436390",
     "exception": false,
     "start_time": "2023-02-22T14:58:53.418707",
     "status": "completed"
    },
    "tags": []
   },
   "source": [
    "The recall and the f1 score aren't so good for the positive diagnosis like the Scikit Learning package."
   ]
  },
  {
   "cell_type": "code",
   "execution_count": 40,
   "id": "ee8b3234",
   "metadata": {
    "execution": {
     "iopub.execute_input": "2023-02-22T14:58:53.475007Z",
     "iopub.status.busy": "2023-02-22T14:58:53.474584Z",
     "iopub.status.idle": "2023-02-22T14:58:53.481834Z",
     "shell.execute_reply": "2023-02-22T14:58:53.480930Z"
    },
    "papermill": {
     "duration": 0.029363,
     "end_time": "2023-02-22T14:58:53.484152",
     "exception": false,
     "start_time": "2023-02-22T14:58:53.454789",
     "status": "completed"
    },
    "tags": []
   },
   "outputs": [],
   "source": [
    "my_y_prob = [[],[]]\n",
    "for k in range(len(y_prob)):\n",
    "    if y_prob[k]<0.5:\n",
    "        my_y_prob[0].append(y_prob[k])\n",
    "    else:\n",
    "        my_y_prob[0].append(1 - y_prob[k])\n",
    "    if y_prob[k]>0.5:\n",
    "        my_y_prob[1].append(y_prob[k])\n",
    "    else:\n",
    "        my_y_prob[1].append(1 - y_prob[k])\n",
    "my_y_prob = np.array(my_y_prob).T"
   ]
  },
  {
   "cell_type": "code",
   "execution_count": 41,
   "id": "8ceeb6c9",
   "metadata": {
    "execution": {
     "iopub.execute_input": "2023-02-22T14:58:53.521883Z",
     "iopub.status.busy": "2023-02-22T14:58:53.521234Z",
     "iopub.status.idle": "2023-02-22T14:58:53.527952Z",
     "shell.execute_reply": "2023-02-22T14:58:53.526818Z"
    },
    "papermill": {
     "duration": 0.028446,
     "end_time": "2023-02-22T14:58:53.530418",
     "exception": false,
     "start_time": "2023-02-22T14:58:53.501972",
     "status": "completed"
    },
    "tags": []
   },
   "outputs": [
    {
     "data": {
      "text/plain": [
       "(384, 2)"
      ]
     },
     "execution_count": 41,
     "metadata": {},
     "output_type": "execute_result"
    }
   ],
   "source": [
    "my_y_prob.shape"
   ]
  },
  {
   "cell_type": "code",
   "execution_count": 42,
   "id": "3df06135",
   "metadata": {
    "execution": {
     "iopub.execute_input": "2023-02-22T14:58:53.569961Z",
     "iopub.status.busy": "2023-02-22T14:58:53.569545Z",
     "iopub.status.idle": "2023-02-22T14:58:53.743759Z",
     "shell.execute_reply": "2023-02-22T14:58:53.742397Z"
    },
    "papermill": {
     "duration": 0.19742,
     "end_time": "2023-02-22T14:58:53.746568",
     "exception": false,
     "start_time": "2023-02-22T14:58:53.549148",
     "status": "completed"
    },
    "tags": []
   },
   "outputs": [],
   "source": [
    "my_cdf = get_classes_cdf(y_test, my_y_prob[:,1])"
   ]
  },
  {
   "cell_type": "code",
   "execution_count": 43,
   "id": "bde058b0",
   "metadata": {
    "execution": {
     "iopub.execute_input": "2023-02-22T14:58:53.785005Z",
     "iopub.status.busy": "2023-02-22T14:58:53.784605Z",
     "iopub.status.idle": "2023-02-22T14:58:54.178942Z",
     "shell.execute_reply": "2023-02-22T14:58:54.177900Z"
    },
    "papermill": {
     "duration": 0.416728,
     "end_time": "2023-02-22T14:58:54.181581",
     "exception": false,
     "start_time": "2023-02-22T14:58:53.764853",
     "status": "completed"
    },
    "tags": []
   },
   "outputs": [
    {
     "data": {
      "image/png": "[encoded data removed]",
      "text/plain": [
       "<Figure size 720x432 with 1 Axes>"
      ]
     },
     "metadata": {
      "needs_background": "light"
     },
     "output_type": "display_data"
    }
   ],
   "source": [
    "# Visualize the ROC curve\n",
    "fig = plt.figure(figsize = (10, 6))\n",
    "ax1 = plt.subplot()\n",
    "\n",
    "ax1.set_title(\"My model Cumulative Distribution Function (CDF)\")\n",
    "sns.lineplot(x = my_cdf['proba0'], y = my_cdf['cdf0'], color = 'b', ax = ax1, linewidth = 3)\n",
    "sns.lineplot(x = my_cdf['proba1'], y = my_cdf['cdf1'], color = 'g', ax = ax1, linewidth = 3)\n",
    "ax1.legend([\"class 0\", \"class 1\"])\n",
    "\n",
    "plt.tight_layout()"
   ]
  },
  {
   "cell_type": "code",
   "execution_count": 44,
   "id": "08bc8698",
   "metadata": {
    "execution": {
     "iopub.execute_input": "2023-02-22T14:58:54.220579Z",
     "iopub.status.busy": "2023-02-22T14:58:54.220156Z",
     "iopub.status.idle": "2023-02-22T14:58:54.234534Z",
     "shell.execute_reply": "2023-02-22T14:58:54.233013Z"
    },
    "papermill": {
     "duration": 0.037575,
     "end_time": "2023-02-22T14:58:54.237681",
     "exception": false,
     "start_time": "2023-02-22T14:58:54.200106",
     "status": "completed"
    },
    "tags": []
   },
   "outputs": [
    {
     "name": "stdout",
     "output_type": "stream",
     "text": [
      "My classifier:\n",
      "KS: 0.0530 (p-value: 9.505e-01)\n",
      "ROC AUC: 0.4895\n"
     ]
    }
   ],
   "source": [
    "print(\"My classifier:\")\n",
    "ks_my, auc_my = evaluate_ks_and_roc_auc(y_test, my_y_prob[:,1])"
   ]
  },
  {
   "cell_type": "code",
   "execution_count": 45,
   "id": "733d5b1c",
   "metadata": {
    "execution": {
     "iopub.execute_input": "2023-02-22T14:58:54.277483Z",
     "iopub.status.busy": "2023-02-22T14:58:54.276684Z",
     "iopub.status.idle": "2023-02-22T14:58:54.283892Z",
     "shell.execute_reply": "2023-02-22T14:58:54.283043Z"
    },
    "papermill": {
     "duration": 0.029907,
     "end_time": "2023-02-22T14:58:54.286359",
     "exception": false,
     "start_time": "2023-02-22T14:58:54.256452",
     "status": "completed"
    },
    "tags": []
   },
   "outputs": [],
   "source": [
    "logit_roc_auc = roc_auc_score(y_test, my_pred) \n",
    "fpr, tpr, thresholds = roc_curve(y_test, my_y_prob[:,1])"
   ]
  },
  {
   "cell_type": "code",
   "execution_count": 46,
   "id": "b87ac92f",
   "metadata": {
    "execution": {
     "iopub.execute_input": "2023-02-22T14:58:54.326199Z",
     "iopub.status.busy": "2023-02-22T14:58:54.325354Z",
     "iopub.status.idle": "2023-02-22T14:58:54.573750Z",
     "shell.execute_reply": "2023-02-22T14:58:54.572607Z"
    },
    "papermill": {
     "duration": 0.271215,
     "end_time": "2023-02-22T14:58:54.576198",
     "exception": false,
     "start_time": "2023-02-22T14:58:54.304983",
     "status": "completed"
    },
    "tags": []
   },
   "outputs": [
    {
     "data": {
      "image/png": "[encoded data removed]",
      "text/plain": [
       "<Figure size 864x576 with 1 Axes>"
      ]
     },
     "metadata": {
      "needs_background": "light"
     },
     "output_type": "display_data"
    }
   ],
   "source": [
    "plt.figure(figsize = (12,8)) \n",
    "plt.plot(fpr, tpr, label='Logistic Regression (area = %0.2f)' % logit_roc_auc) \n",
    "plt.plot([0, 1], [0, 1],'r--') \n",
    "plt.text(0.5, 0.5, \"varying threshold scores (0-1)\", rotation=0, size=12,ha=\"center\", va=\"center\",bbox=dict(boxstyle=\"rarrow\"))\n",
    "plt.xlabel('False Positive Rate') \n",
    "plt.ylabel('True Positive Rate') \n",
    "plt.title('Receiver operating characteristic') \n",
    "plt.legend(loc=\"lower right\") \n",
    "#plt.savefig('Log_ROC') \n",
    "plt.show()"
   ]
  },
  {
   "cell_type": "markdown",
   "id": "fdca7ffe-e2eb-44dc-a77d-ffb06e32c66c",
   "metadata": {},
   "source": [
    "# Conclusion\n",
    "\n",
    "We build from scratch a logistic regression model and compared it to the scikit learn implementation default model. Our focus was in undestand the mechanisms behind the blackbox of logistic regression models and clear explain it. As expected for a didatic simple model, our implementation performed worse than the scikit learn model, but the objective of the tutorial was succesfully achieved. "
   ]
  },
  {
   "cell_type": "markdown",
   "id": "ca3c73c7",
   "metadata": {
    "papermill": {
     "duration": 0.019494,
     "end_time": "2023-02-22T14:58:54.615394",
     "exception": false,
     "start_time": "2023-02-22T14:58:54.595900",
     "status": "completed"
    },
    "tags": []
   },
   "source": [
    "# References\n",
    "\n",
    "* [Logistic Regression - Wikipedia](https://en.wikipedia.org/wiki/Logistic_regression#Definition)\n",
    "* [Logistic Regression — Detailed Overview](https://towardsdatascience.com/logistic-regression-detailed-overview-46c4da4303bc)\n",
    "* [Logistic Regression Implementation](https://www.kaggle.com/code/kanncaa1/logistic-regression-implementation)\n",
    "* [Performance Measurement in Logistic Regresion](https://meettank29067.medium.com/performance-measurement-in-logistic-regression-8c9109b25278)\n",
    "* [Understanding AUC](https://medium.com/@data.science.enthusiast/auc-roc-curve-ae9180eaf4f7)"
   ]
  },
  {
   "cell_type": "markdown",
   "id": "db393447",
   "metadata": {
    "papermill": {
     "duration": 0.019516,
     "end_time": "2023-02-22T14:58:54.654210",
     "exception": false,
     "start_time": "2023-02-22T14:58:54.634694",
     "status": "completed"
    },
    "tags": []
   },
   "source": [
    "### If this notebook was helpful to you, consider to give an upvote! Thank you very much! "
   ]
  },
  {
   "cell_type": "code",
   "execution_count": null,
   "id": "b6f77bd9",
   "metadata": {
    "papermill": {
     "duration": 0.019529,
     "end_time": "2023-02-22T14:58:54.693296",
     "exception": false,
     "start_time": "2023-02-22T14:58:54.673767",
     "status": "completed"
    },
    "tags": []
   },
   "outputs": [],
   "source": []
  }
 ],
 "metadata": {
  "kernelspec": {
   "display_name": "Python 3 (ipykernel)",
   "language": "python",
   "name": "python3"
  },
  "language_info": {
   "codemirror_mode": {
    "name": "ipython",
    "version": 3
   },
   "file_extension": ".py",
   "mimetype": "text/x-python",
   "name": "python",
   "nbconvert_exporter": "python",
   "pygments_lexer": "ipython3",
   "version": "3.9.12"
  },
  "papermill": {
   "default_parameters": {},
   "duration": 19.382942,
   "end_time": "2023-02-22T14:58:55.535972",
   "environment_variables": {},
   "exception": null,
   "input_path": "__notebook__.ipynb",
   "output_path": "__notebook__.ipynb",
   "parameters": {},
   "start_time": "2023-02-22T14:58:36.153030",
   "version": "2.3.4"
  }
 },
 "nbformat": 4,
 "nbformat_minor": 5
}
